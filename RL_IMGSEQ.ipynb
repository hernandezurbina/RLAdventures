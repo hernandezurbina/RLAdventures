{
 "cells": [
  {
   "cell_type": "code",
   "execution_count": 1,
   "id": "28b20b09",
   "metadata": {},
   "outputs": [],
   "source": [
    "from PIL import Image"
   ]
  },
  {
   "cell_type": "code",
   "execution_count": 2,
   "id": "5e881ea9",
   "metadata": {},
   "outputs": [],
   "source": [
    "import matplotlib.pyplot as plt\n",
    "import numpy as np\n",
    "import gym"
   ]
  },
  {
   "cell_type": "code",
   "execution_count": 3,
   "id": "b92de088",
   "metadata": {},
   "outputs": [],
   "source": [
    "%matplotlib inline"
   ]
  },
  {
   "cell_type": "code",
   "execution_count": 4,
   "id": "ce48653b",
   "metadata": {},
   "outputs": [
    {
     "name": "stdout",
     "output_type": "stream",
     "text": [
      "pygame 2.0.1 (SDL 2.0.14, Python 3.6.15)\n",
      "Hello from the pygame community. https://www.pygame.org/contribute.html\n"
     ]
    }
   ],
   "source": [
    "from gym.utils import play"
   ]
  },
  {
   "cell_type": "code",
   "execution_count": 5,
   "id": "093b3781",
   "metadata": {},
   "outputs": [],
   "source": [
    "from rl.core import Processor\n",
    "from rl.memory import SequentialMemory"
   ]
  },
  {
   "cell_type": "code",
   "execution_count": 6,
   "id": "154a3ae7",
   "metadata": {},
   "outputs": [],
   "source": [
    "env = gym.make(\"Breakout-v0\")"
   ]
  },
  {
   "cell_type": "code",
   "execution_count": 7,
   "id": "7e0a9c4e",
   "metadata": {},
   "outputs": [],
   "source": [
    "WINDOW_LENGTH = 3"
   ]
  },
  {
   "cell_type": "code",
   "execution_count": 8,
   "id": "5f114a2f",
   "metadata": {},
   "outputs": [],
   "source": [
    "from collections import deque"
   ]
  },
  {
   "cell_type": "code",
   "execution_count": 9,
   "id": "6625732e",
   "metadata": {},
   "outputs": [],
   "source": [
    "np.random.seed(42)\n",
    "env.reset()\n",
    "\n",
    "sequential_frame_buffer = []\n",
    "\n",
    "temp_sequential_frames = deque(maxlen=WINDOW_LENGTH)\n",
    "\n",
    "for i in range(10):\n",
    "    \n",
    "    if i == 1:\n",
    "        action = 1\n",
    "    else:\n",
    "        action = 3\n",
    "        \n",
    "        \n",
    "    obs, reward, done, info = env.step(action)\n",
    "    \n",
    "    if len(temp_sequential_frames) == WINDOW_LENGTH:\n",
    "        sequential_frame_buffer.append(list(temp_sequential_frames))\n",
    "    temp_sequential_frames.append(obs)\n",
    "    "
   ]
  },
  {
   "cell_type": "code",
   "execution_count": 10,
   "id": "94653612",
   "metadata": {},
   "outputs": [
    {
     "data": {
      "text/plain": [
       "7"
      ]
     },
     "execution_count": 10,
     "metadata": {},
     "output_type": "execute_result"
    }
   ],
   "source": [
    "len(sequential_frame_buffer)"
   ]
  },
  {
   "cell_type": "code",
   "execution_count": 11,
   "id": "6a2391f1",
   "metadata": {},
   "outputs": [
    {
     "data": {
      "text/plain": [
       "<matplotlib.image.AxesImage at 0x2e888ad22b0>"
      ]
     },
     "execution_count": 11,
     "metadata": {},
     "output_type": "execute_result"
    }
   ],
   "source": [
    "plt.imshow(sequential_frame_buffer[4][2])"
   ]
  },
  {
   "cell_type": "code",
   "execution_count": null,
   "id": "03b12aa4",
   "metadata": {},
   "outputs": [],
   "source": []
  }
 ],
 "metadata": {
  "kernelspec": {
   "display_name": "Python 3",
   "language": "python",
   "name": "python3"
  },
  "language_info": {
   "codemirror_mode": {
    "name": "ipython",
    "version": 3
   },
   "file_extension": ".py",
   "mimetype": "text/x-python",
   "name": "python",
   "nbconvert_exporter": "python",
   "pygments_lexer": "ipython3",
   "version": "3.6.15"
  }
 },
 "nbformat": 4,
 "nbformat_minor": 5
}
