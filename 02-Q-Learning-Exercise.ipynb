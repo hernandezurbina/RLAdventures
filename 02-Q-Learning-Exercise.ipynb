{
 "cells": [
  {
   "cell_type": "markdown",
   "id": "e0f70e03",
   "metadata": {},
   "source": [
    "___\n",
    "\n",
    "<a href='http://www.pieriandata.com'><img src='../Pierian_Data_Logo.png'/></a>\n",
    "___\n",
    "<center><em>Copyright by Pierian Data Inc.</em></center>\n",
    "<center><em>For more information, visit us at <a href='http://www.pieriandata.com'>www.pieriandata.com</a></em></center>"
   ]
  },
  {
   "cell_type": "markdown",
   "id": "7a938939",
   "metadata": {},
   "source": [
    "# Q Learning Exercise "
   ]
  },
  {
   "cell_type": "markdown",
   "id": "a82c5575",
   "metadata": {},
   "source": [
    "**We'll be reviewing and testing your skills with Q-Learning on a continuous space! Please feel free to reference the lecture notebooks you are definitely not expected to be able to fill out all this code from memory, just the ability to understand the core concepts and apply it to a different situation.**\n",
    "\n",
    "--------------------\n",
    "\n",
    "## Complete the tasks in bold below."
   ]
  },
  {
   "cell_type": "markdown",
   "id": "2147ae69",
   "metadata": {},
   "source": [
    "In this exercise we take a look at the MountainCar-v0 (https://gym.openai.com/envs/MountainCar-v0/) game again. That is the game from our original discussion of OpenAi gym environments for which we created an agent manually.\n",
    "Remember, that the goal is to reach the top of the mountain within some time limit\n",
    "\n",
    "-----"
   ]
  },
  {
   "cell_type": "markdown",
   "id": "afc8b2ce",
   "metadata": {},
   "source": [
    "**TASK: Import any relevant libraries you think you might need.** <br />\n"
   ]
  },
  {
   "cell_type": "code",
   "execution_count": 1,
   "id": "11e0d486",
   "metadata": {},
   "outputs": [],
   "source": [
    "import gym\n",
    "import numpy as np\n",
    "import matplotlib.pyplot as plt\n",
    "%matplotlib inline\n",
    "from time import sleep"
   ]
  },
  {
   "cell_type": "markdown",
   "id": "4c6f7e28",
   "metadata": {},
   "source": [
    "**TASK: Create the gym mountain car environment** <br />\n"
   ]
  },
  {
   "cell_type": "code",
   "execution_count": 2,
   "id": "d001763e",
   "metadata": {},
   "outputs": [],
   "source": [
    "env = gym.make(\"MountainCar-v0\")"
   ]
  },
  {
   "cell_type": "markdown",
   "id": "171192c3",
   "metadata": {},
   "source": [
    "**TASK: Write a function to create a numpy array holding the bins for the observations of the car (position and velocity).** <br />\n",
    "Feel free to explore different bins per observation spacings.\n",
    "The function should take one argument which acts as the bins per observation <br />\n",
    "Hint: You can find the observations here: https://github.com/openai/gym/blob/master/gym/envs/classic_control/mountain_car.py\n",
    "<br /> Hint: You will probably need around 25 bins for good results, but feel free to use less to reduce training time. <br />\n"
   ]
  },
  {
   "cell_type": "code",
   "execution_count": 16,
   "id": "e4e0ab04",
   "metadata": {},
   "outputs": [],
   "source": [
    "def create_bins(num_bins_per_observation=25):\n",
    "    # CODE HERE\n",
    "    bins_pos = np.linspace(-1.2, 0.6, num_bins_per_observation)\n",
    "    bins_vel = np.linspace(-0.07, 0.07, num_bins_per_observation)\n",
    "    bins = np.array([bins_pos, bins_vel])\n",
    "    return bins"
   ]
  },
  {
   "cell_type": "markdown",
   "id": "9c16f6a1",
   "metadata": {},
   "source": [
    "**TASK: Here you should write the code which creates the bins and defines the NUM_BINS attribute**"
   ]
  },
  {
   "cell_type": "code",
   "execution_count": 24,
   "id": "c1b2b0ac",
   "metadata": {},
   "outputs": [],
   "source": [
    "NUM_BINS = 40\n",
    "BINS = create_bins(NUM_BINS)"
   ]
  },
  {
   "cell_type": "markdown",
   "id": "28446881",
   "metadata": {},
   "source": [
    "**TASK: Create a function that will take in observations from the environment and the bins array and return the discretized version of the observation.**"
   ]
  },
  {
   "cell_type": "markdown",
   "id": "bcceedae",
   "metadata": {},
   "source": [
    "Now we need the code to discretize the observations. We can use the same code as used in the last notebook"
   ]
  },
  {
   "cell_type": "code",
   "execution_count": 25,
   "id": "6365d656",
   "metadata": {},
   "outputs": [],
   "source": [
    "def discretize_observation(observations, bins):\n",
    "    binned_observations = []\n",
    "    for i, obs in enumerate(observations):\n",
    "        discretized_obs = np.digitize(obs, bins[i])\n",
    "        binned_observations.append(discretized_obs)\n",
    "        \n",
    "    return tuple(binned_observations) # Important for later indexing"
   ]
  },
  {
   "cell_type": "markdown",
   "id": "b176faaf",
   "metadata": {},
   "source": [
    "**Let's check to make sure your previous two function calls work with a quick task! Otherwise it may be hard to debug later on.**"
   ]
  },
  {
   "cell_type": "markdown",
   "id": "7d2d8d8e",
   "metadata": {},
   "source": [
    "**TASK: Confirm that your *create_bins()* function works with *discretize_observation() by running the following cell***"
   ]
  },
  {
   "cell_type": "code",
   "execution_count": 26,
   "id": "c5eca009",
   "metadata": {},
   "outputs": [],
   "source": [
    "test_bins = create_bins(5)\n",
    "np.testing.assert_almost_equal(test_bins[0], [-1.2 , -0.75, -0.3 ,  0.15,  0.6])\n",
    "np.testing.assert_almost_equal(test_bins[1], [-0.07 , -0.035,  0.   ,  0.035,  0.07 ])\n",
    "\n",
    "test_observation = np.array([-0.9, 0.03])\n",
    "discretized_test_bins = discretize_observation(test_observation, test_bins)\n",
    "assert discretized_test_bins == (1, 3)"
   ]
  },
  {
   "cell_type": "markdown",
   "id": "1e2e71a8",
   "metadata": {},
   "source": [
    "**TASK: Create the Q-Table** <br />\n",
    "Remember the shape that the Q-Table needs to have."
   ]
  },
  {
   "cell_type": "code",
   "execution_count": 28,
   "id": "32b9bba7",
   "metadata": {},
   "outputs": [
    {
     "name": "stdout",
     "output_type": "stream",
     "text": [
      "(40, 40, 3)\n"
     ]
    }
   ],
   "source": [
    "# CREATE THE Q TABLE\n",
    "q_table_shape = (NUM_BINS, NUM_BINS, env.action_space.n)\n",
    "q_table = np.zeros(q_table_shape)\n",
    "print(q_table.shape)"
   ]
  },
  {
   "cell_type": "markdown",
   "id": "44d485ec",
   "metadata": {},
   "source": [
    "**TASK: Fill out the Epislon Greedy Action Selection function:**"
   ]
  },
  {
   "cell_type": "code",
   "execution_count": 29,
   "id": "ac943d8d",
   "metadata": {},
   "outputs": [],
   "source": [
    "def epsilon_greedy_action_selection(epsilon, q_table, discrete_state):\n",
    "    \n",
    "    random_number = np.random.random()\n",
    "        \n",
    "    if random_number > epsilon:\n",
    "        # exploitation\n",
    "        action = np.argmax(q_table[discrete_state])\n",
    "    else:\n",
    "        # exploration\n",
    "        action = np.random.randint(0, env.action_space.n)\n",
    "        \n",
    "    return action"
   ]
  },
  {
   "cell_type": "markdown",
   "id": "f2631b38",
   "metadata": {},
   "source": [
    "**TASK: Define your hyperparameters. Note, we'll show our solution hyperparameters here, but depending on your *reduce_epsilon* function, your epsilon hyperparameters may be different.**"
   ]
  },
  {
   "cell_type": "markdown",
   "id": "90b2c3fc",
   "metadata": {},
   "source": [
    "Here are the solution initial hyperparameters, your will probably be different!"
   ]
  },
  {
   "cell_type": "code",
   "execution_count": 31,
   "id": "60825d7b",
   "metadata": {},
   "outputs": [],
   "source": [
    "# Feel free to change!\n",
    "\n",
    "EPOCHS = 30000\n",
    "BURN_IN = 100\n",
    "epsilon = 1\n",
    "\n",
    "EPSILON_END= 10000\n",
    "EPSILON_REDUCE = 0.0001 \n",
    "\n",
    "ALPHA = 0.8\n",
    "GAMMA = 0.9\n"
   ]
  },
  {
   "cell_type": "markdown",
   "id": "5b6f5ec4",
   "metadata": {},
   "source": [
    "**TASK: Fill out the function to compute the next Q value.**"
   ]
  },
  {
   "cell_type": "code",
   "execution_count": 30,
   "id": "a7ec635a",
   "metadata": {},
   "outputs": [],
   "source": [
    "def compute_next_q_value(old_q_value, reward, next_optimal_q_value):\n",
    "    \n",
    "    return old_q_value + ALPHA * (reward + GAMMA * next_optimal_q_value - old_q_value)"
   ]
  },
  {
   "cell_type": "markdown",
   "id": "043548dc",
   "metadata": {},
   "source": [
    "**TASK: Create a function to reduce epsilon, feel free to choose any reduction method you want. We'll use a reduction with BURN_IN and EPSILON_END limits in the solution. We'll also show a way to reduce epsilon based on the number of epochs. Feel free to experiment here.**"
   ]
  },
  {
   "cell_type": "code",
   "execution_count": 40,
   "id": "ea236a4b",
   "metadata": {},
   "outputs": [],
   "source": [
    "def reduce_epsilon(epsilon, epoch):\n",
    "    if BURN_IN <= epoch <= EPSILON_END:\n",
    "        epsilon -= EPSILON_REDUCE\n",
    "    return epsilon"
   ]
  },
  {
   "cell_type": "markdown",
   "id": "f73abcf6",
   "metadata": {},
   "source": [
    "**TASK: Create the training loop for the reinforcement learning agent and run the loop. We've gone ahead and created the basic structure of the loopwith some comments. We also pre-filled the visualization portion.** <br />\n",
    "Note: Use the lecture notebook as a guide and reference"
   ]
  },
  {
   "cell_type": "code",
   "execution_count": 41,
   "id": "d671a646",
   "metadata": {},
   "outputs": [
    {
     "data": {
      "image/png": "[encoded data removed]",
      "text/plain": [
       "<Figure size 432x288 with 1 Axes>"
      ]
     },
     "metadata": {
      "needs_background": "light"
     },
     "output_type": "display_data"
    }
   ],
   "source": [
    "####### VISUALIZATION CODE FOR YOU. TOTALLY OPTIONAL. ##########################\n",
    "########## FEEL FREE TO REMOVE OR ADD YOUR OWN VISUAL CODE. #################\n",
    "\n",
    "log_interval = 100  # How often do we update the plot? (Just for performance reasons)\n",
    "### Here we set up the routine for the live plotting of the achieved points ######\n",
    "fig = plt.figure()\n",
    "ax = fig.add_subplot(111)\n",
    "plt.ion()\n",
    "fig.canvas.draw()\n",
    "\n",
    "max_position_log = []  # to store all achieved points\n",
    "mean_positions_log = []  # to store a running mean of the last 30 results\n",
    "epochs = []  # store the epoch for plotting\n",
    "\n",
    "\n",
    "#############################################################################\n",
    "################################## TRAINING TASKS ##########################\n",
    "###########################################################################\n",
    "for epoch in range(EPOCHS):\n",
    "    ################################# TODO ######################################\n",
    "    \n",
    "    # TODO: Get initial observation and discretize them. Set done to False\n",
    "    initial_state = env.reset()\n",
    "    discretized_state = discretize_observation(initial_state, BINS)\n",
    "    \n",
    "    done = False\n",
    "    \n",
    "   \n",
    "    #############################\n",
    "    # These lines are for plotting.\n",
    "    max_position = -np.inf  \n",
    "    epochs.append(epoch)\n",
    "    #############################\n",
    "    \n",
    "    # TASK TO DO: As long as current run is alive (i.e not done) perform the following steps:\n",
    "    while not done:  # Perform current run as long as done is False (as long as there is still time to reach the top)\n",
    "\n",
    "\n",
    "        # TASK TO DO: Select action according to epsilon-greedy strategy\n",
    "        action = epsilon_greedy_action_selection(epsilon, q_table, discretized_state)\n",
    "        \n",
    "        # TASK TO DO: Perform selected action and get next state. Do not forget to discretize it\n",
    "        next_state, reward, done, info = env.step(action)\n",
    "        position, velocity = next_state\n",
    "        next_state_discretized = discretize_observation(next_state, BINS)\n",
    "        \n",
    "        # TASK TO DO: Get old Q-value from Q-Table and get next optimal Q-Value\n",
    "        old_q_value = q_table[discretized_state + (action, )]\n",
    "        next_optimal_q_value = np.max(q_table[next_state_discretized])\n",
    "        \n",
    "        # TASK TO DO: Compute next Q-Value and insert it into the table\n",
    "        next_q = compute_next_q_value(old_q_value, reward, next_optimal_q_value)\n",
    "        q_table[discretized_state + (action, )] = next_q\n",
    "        \n",
    "        # TASK TO DO: Update the old state with the new one\n",
    "        discretized_state = next_state_discretized\n",
    "        \n",
    "        \n",
    "        ##############################\n",
    "        ##  Only for plotting the results - store the highest point the car is able to reach\n",
    "        if position > max_position:  \n",
    "            max_position = position\n",
    "\n",
    "    # TASK TO DO: Reduce epsilon\n",
    "    epsilon = reduce_epsilon(epsilon, epoch)\n",
    "    ##############################################################################\n",
    "\n",
    "    max_position_log.append(max_position)  # log the highest position the car was able to reach\n",
    "    running_mean = round(np.mean(max_position_log[-30:]), 2)  # Compute running mean of position over the last 30 epochs\n",
    "    mean_positions_log.append(running_mean)  # and log it\n",
    "    \n",
    "    ################ Plot the points and running mean ##################\n",
    "    if epoch % log_interval == 0:\n",
    "        ax.clear()\n",
    "        ax.scatter(epochs, max_position_log)\n",
    "        ax.plot(epochs, max_position_log)\n",
    "        ax.plot(epochs, mean_positions_log, label=f\"Running Mean: {running_mean}\")\n",
    "        plt.legend()\n",
    "        fig.canvas.draw()\n",
    "  ######################################################################\n",
    "\n",
    "env.close()\n"
   ]
  },
  {
   "cell_type": "markdown",
   "id": "3e5de67a",
   "metadata": {},
   "source": [
    "**TASK: Use your Q-Table to test your agent and render its performance.**"
   ]
  },
  {
   "cell_type": "code",
   "execution_count": 47,
   "id": "39fbe789",
   "metadata": {
    "scrolled": true
   },
   "outputs": [],
   "source": [
    "# CODE HERE\n",
    "observation = env.reset()\n",
    "\n",
    "for _ in range(3000):\n",
    "    env.render()\n",
    "    discrete_state = discretize_observation(observation, BINS)  # get bins\n",
    "    action = np.argmax(q_table[discrete_state])  # and chose action from the Q-Table\n",
    "    observation, reward, done, info = env.step(action) # Finally perform the action\n",
    "    if done:\n",
    "        break\n",
    "env.close()\n"
   ]
  },
  {
   "cell_type": "markdown",
   "id": "5d77b6e7",
   "metadata": {},
   "source": [
    "**OPTIONAL: Play with our Q-Table with 40 bins per observation.**"
   ]
  },
  {
   "cell_type": "code",
   "execution_count": 41,
   "id": "831daba7",
   "metadata": {},
   "outputs": [],
   "source": [
    "# We saved our matrix q_table for you (with 40 bins)"
   ]
  },
  {
   "cell_type": "code",
   "execution_count": 42,
   "id": "1e16f226",
   "metadata": {},
   "outputs": [],
   "source": [
    "our_q_table = np.load('40bin_qtable_mountaincar.npy')"
   ]
  },
  {
   "cell_type": "code",
   "execution_count": 44,
   "id": "1832a448",
   "metadata": {},
   "outputs": [
    {
     "data": {
      "text/plain": [
       "(40, 40, 3)"
      ]
     },
     "execution_count": 44,
     "metadata": {},
     "output_type": "execute_result"
    }
   ],
   "source": [
    "our_q_table.shape"
   ]
  },
  {
   "cell_type": "markdown",
   "id": "7a1045da",
   "metadata": {},
   "source": [
    "**Great job! Note how you could train for many more epochs/episodes or edit hyperparameters, the more complex the environment, the more choices you have to experiment with!**"
   ]
  }
 ],
 "metadata": {
  "kernelspec": {
   "display_name": "Python 3",
   "language": "python",
   "name": "python3"
  },
  "language_info": {
   "codemirror_mode": {
    "name": "ipython",
    "version": 3
   },
   "file_extension": ".py",
   "mimetype": "text/x-python",
   "name": "python",
   "nbconvert_exporter": "python",
   "pygments_lexer": "ipython3",
   "version": "3.6.15"
  }
 },
 "nbformat": 4,
 "nbformat_minor": 5
}
