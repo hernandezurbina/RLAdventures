{
 "cells": [
  {
   "cell_type": "code",
   "execution_count": 1,
   "id": "5b53389f",
   "metadata": {},
   "outputs": [],
   "source": [
    "import gym"
   ]
  },
  {
   "cell_type": "code",
   "execution_count": 8,
   "id": "ddc8bed3",
   "metadata": {},
   "outputs": [],
   "source": [
    "import matplotlib.pyplot as plt\n",
    "import time\n",
    "%matplotlib inline"
   ]
  },
  {
   "cell_type": "code",
   "execution_count": 3,
   "id": "8a4abdff",
   "metadata": {},
   "outputs": [],
   "source": [
    "env_name = 'Breakout-v0'"
   ]
  },
  {
   "cell_type": "code",
   "execution_count": 4,
   "id": "1f80e2c0",
   "metadata": {},
   "outputs": [],
   "source": [
    "env = gym.make(env_name)"
   ]
  },
  {
   "cell_type": "code",
   "execution_count": 6,
   "id": "e9ffb0f7",
   "metadata": {},
   "outputs": [
    {
     "name": "stdout",
     "output_type": "stream",
     "text": [
      "pygame 2.0.1 (SDL 2.0.14, Python 3.6.15)\n",
      "Hello from the pygame community. https://www.pygame.org/contribute.html\n"
     ]
    }
   ],
   "source": [
    "from gym.utils import play"
   ]
  },
  {
   "cell_type": "code",
   "execution_count": 7,
   "id": "b3b026df",
   "metadata": {},
   "outputs": [],
   "source": [
    "play.play(env, zoom=3)"
   ]
  },
  {
   "cell_type": "code",
   "execution_count": 14,
   "id": "22f3364c",
   "metadata": {},
   "outputs": [],
   "source": [
    "array = env.render(mode='rgb_array')"
   ]
  },
  {
   "cell_type": "code",
   "execution_count": 15,
   "id": "a5bf4a61",
   "metadata": {},
   "outputs": [
    {
     "data": {
      "text/plain": [
       "(210, 160, 3)"
      ]
     },
     "execution_count": 15,
     "metadata": {},
     "output_type": "execute_result"
    }
   ],
   "source": [
    "array.shape"
   ]
  },
  {
   "cell_type": "code",
   "execution_count": 16,
   "id": "3ce7588e",
   "metadata": {},
   "outputs": [
    {
     "data": {
      "text/plain": [
       "<matplotlib.image.AxesImage at 0x1ddfeccbf28>"
      ]
     },
     "execution_count": 16,
     "metadata": {},
     "output_type": "execute_result"
    },
    {
     "data": {
      "image/png": "[encoded data removed]",
      "text/plain": [
       "<Figure size 432x288 with 1 Axes>"
      ]
     },
     "metadata": {
      "needs_background": "light"
     },
     "output_type": "display_data"
    }
   ],
   "source": [
    "plt.imshow(array)"
   ]
  },
  {
   "cell_type": "code",
   "execution_count": 12,
   "id": "6c24cbd3",
   "metadata": {},
   "outputs": [
    {
     "data": {
      "text/plain": [
       "4"
      ]
     },
     "execution_count": 12,
     "metadata": {},
     "output_type": "execute_result"
    }
   ],
   "source": [
    "env.action_space.n"
   ]
  },
  {
   "cell_type": "code",
   "execution_count": 21,
   "id": "f2f7dbe7",
   "metadata": {
    "scrolled": true
   },
   "outputs": [
    {
     "data": {
      "text/plain": [
       "array([[[0, 0, 0],\n",
       "        [0, 0, 0],\n",
       "        [0, 0, 0],\n",
       "        ...,\n",
       "        [0, 0, 0],\n",
       "        [0, 0, 0],\n",
       "        [0, 0, 0]],\n",
       "\n",
       "       [[0, 0, 0],\n",
       "        [0, 0, 0],\n",
       "        [0, 0, 0],\n",
       "        ...,\n",
       "        [0, 0, 0],\n",
       "        [0, 0, 0],\n",
       "        [0, 0, 0]],\n",
       "\n",
       "       [[0, 0, 0],\n",
       "        [0, 0, 0],\n",
       "        [0, 0, 0],\n",
       "        ...,\n",
       "        [0, 0, 0],\n",
       "        [0, 0, 0],\n",
       "        [0, 0, 0]],\n",
       "\n",
       "       ...,\n",
       "\n",
       "       [[0, 0, 0],\n",
       "        [0, 0, 0],\n",
       "        [0, 0, 0],\n",
       "        ...,\n",
       "        [0, 0, 0],\n",
       "        [0, 0, 0],\n",
       "        [0, 0, 0]],\n",
       "\n",
       "       [[0, 0, 0],\n",
       "        [0, 0, 0],\n",
       "        [0, 0, 0],\n",
       "        ...,\n",
       "        [0, 0, 0],\n",
       "        [0, 0, 0],\n",
       "        [0, 0, 0]],\n",
       "\n",
       "       [[0, 0, 0],\n",
       "        [0, 0, 0],\n",
       "        [0, 0, 0],\n",
       "        ...,\n",
       "        [0, 0, 0],\n",
       "        [0, 0, 0],\n",
       "        [0, 0, 0]]], dtype=uint8)"
      ]
     },
     "execution_count": 21,
     "metadata": {},
     "output_type": "execute_result"
    }
   ],
   "source": [
    "env.reset()"
   ]
  },
  {
   "cell_type": "code",
   "execution_count": 22,
   "id": "a28791aa",
   "metadata": {},
   "outputs": [
    {
     "name": "stdout",
     "output_type": "stream",
     "text": [
      "0.0 False {'ale.lives': 5}\n",
      "0.0 False {'ale.lives': 5}\n",
      "0.0 False {'ale.lives': 5}\n",
      "0.0 False {'ale.lives': 5}\n",
      "0.0 False {'ale.lives': 5}\n",
      "0.0 False {'ale.lives': 5}\n",
      "0.0 False {'ale.lives': 5}\n",
      "0.0 False {'ale.lives': 5}\n",
      "0.0 False {'ale.lives': 5}\n",
      "0.0 False {'ale.lives': 5}\n",
      "0.0 False {'ale.lives': 5}\n",
      "0.0 False {'ale.lives': 5}\n",
      "0.0 False {'ale.lives': 5}\n",
      "0.0 False {'ale.lives': 5}\n",
      "0.0 False {'ale.lives': 5}\n",
      "0.0 False {'ale.lives': 5}\n",
      "0.0 False {'ale.lives': 5}\n",
      "0.0 False {'ale.lives': 5}\n",
      "0.0 False {'ale.lives': 5}\n",
      "0.0 False {'ale.lives': 5}\n",
      "0.0 False {'ale.lives': 5}\n",
      "0.0 False {'ale.lives': 5}\n",
      "0.0 False {'ale.lives': 5}\n",
      "0.0 False {'ale.lives': 5}\n",
      "0.0 False {'ale.lives': 5}\n",
      "0.0 False {'ale.lives': 5}\n",
      "0.0 False {'ale.lives': 5}\n",
      "0.0 False {'ale.lives': 5}\n",
      "0.0 False {'ale.lives': 5}\n",
      "0.0 False {'ale.lives': 5}\n",
      "0.0 False {'ale.lives': 5}\n",
      "0.0 False {'ale.lives': 5}\n",
      "0.0 False {'ale.lives': 5}\n",
      "0.0 False {'ale.lives': 5}\n",
      "0.0 False {'ale.lives': 5}\n",
      "0.0 False {'ale.lives': 4}\n",
      "0.0 False {'ale.lives': 4}\n",
      "0.0 False {'ale.lives': 4}\n",
      "0.0 False {'ale.lives': 4}\n",
      "0.0 False {'ale.lives': 4}\n",
      "0.0 False {'ale.lives': 4}\n",
      "0.0 False {'ale.lives': 4}\n",
      "0.0 False {'ale.lives': 4}\n",
      "0.0 False {'ale.lives': 4}\n",
      "0.0 False {'ale.lives': 4}\n",
      "0.0 False {'ale.lives': 4}\n",
      "0.0 False {'ale.lives': 4}\n",
      "0.0 False {'ale.lives': 4}\n",
      "0.0 False {'ale.lives': 4}\n",
      "0.0 False {'ale.lives': 4}\n",
      "0.0 False {'ale.lives': 4}\n",
      "0.0 False {'ale.lives': 4}\n",
      "0.0 False {'ale.lives': 4}\n",
      "0.0 False {'ale.lives': 4}\n",
      "0.0 False {'ale.lives': 4}\n",
      "0.0 False {'ale.lives': 4}\n",
      "0.0 False {'ale.lives': 4}\n",
      "0.0 False {'ale.lives': 4}\n",
      "0.0 False {'ale.lives': 4}\n",
      "0.0 False {'ale.lives': 4}\n",
      "0.0 False {'ale.lives': 4}\n",
      "0.0 False {'ale.lives': 4}\n",
      "0.0 False {'ale.lives': 4}\n",
      "0.0 False {'ale.lives': 4}\n",
      "0.0 False {'ale.lives': 4}\n",
      "0.0 False {'ale.lives': 4}\n",
      "0.0 False {'ale.lives': 4}\n",
      "0.0 False {'ale.lives': 4}\n",
      "0.0 False {'ale.lives': 4}\n",
      "0.0 False {'ale.lives': 4}\n",
      "0.0 False {'ale.lives': 4}\n",
      "0.0 False {'ale.lives': 4}\n",
      "0.0 False {'ale.lives': 4}\n",
      "0.0 False {'ale.lives': 4}\n",
      "0.0 False {'ale.lives': 4}\n",
      "0.0 False {'ale.lives': 4}\n",
      "0.0 False {'ale.lives': 4}\n",
      "0.0 False {'ale.lives': 4}\n",
      "0.0 False {'ale.lives': 4}\n",
      "0.0 False {'ale.lives': 4}\n",
      "0.0 False {'ale.lives': 4}\n",
      "0.0 False {'ale.lives': 4}\n",
      "0.0 False {'ale.lives': 4}\n",
      "0.0 False {'ale.lives': 4}\n",
      "0.0 False {'ale.lives': 4}\n",
      "0.0 False {'ale.lives': 3}\n",
      "0.0 False {'ale.lives': 3}\n",
      "0.0 False {'ale.lives': 3}\n",
      "0.0 False {'ale.lives': 3}\n",
      "0.0 False {'ale.lives': 3}\n",
      "0.0 False {'ale.lives': 3}\n",
      "0.0 False {'ale.lives': 3}\n",
      "0.0 False {'ale.lives': 3}\n",
      "0.0 False {'ale.lives': 3}\n",
      "0.0 False {'ale.lives': 3}\n",
      "0.0 False {'ale.lives': 3}\n",
      "0.0 False {'ale.lives': 3}\n",
      "0.0 False {'ale.lives': 3}\n",
      "0.0 False {'ale.lives': 3}\n",
      "0.0 False {'ale.lives': 3}\n",
      "0.0 False {'ale.lives': 3}\n",
      "0.0 False {'ale.lives': 3}\n",
      "0.0 False {'ale.lives': 3}\n",
      "0.0 False {'ale.lives': 3}\n",
      "0.0 False {'ale.lives': 3}\n",
      "0.0 False {'ale.lives': 3}\n",
      "0.0 False {'ale.lives': 3}\n",
      "0.0 False {'ale.lives': 3}\n",
      "0.0 False {'ale.lives': 3}\n",
      "0.0 False {'ale.lives': 3}\n",
      "0.0 False {'ale.lives': 3}\n",
      "0.0 False {'ale.lives': 3}\n",
      "0.0 False {'ale.lives': 3}\n",
      "0.0 False {'ale.lives': 3}\n",
      "0.0 False {'ale.lives': 3}\n",
      "0.0 False {'ale.lives': 3}\n",
      "0.0 False {'ale.lives': 3}\n",
      "0.0 False {'ale.lives': 3}\n",
      "0.0 False {'ale.lives': 2}\n",
      "0.0 False {'ale.lives': 2}\n",
      "0.0 False {'ale.lives': 2}\n",
      "0.0 False {'ale.lives': 2}\n",
      "0.0 False {'ale.lives': 2}\n",
      "0.0 False {'ale.lives': 2}\n",
      "0.0 False {'ale.lives': 2}\n",
      "0.0 False {'ale.lives': 2}\n",
      "0.0 False {'ale.lives': 2}\n",
      "0.0 False {'ale.lives': 2}\n",
      "0.0 False {'ale.lives': 2}\n",
      "0.0 False {'ale.lives': 2}\n",
      "0.0 False {'ale.lives': 2}\n",
      "0.0 False {'ale.lives': 2}\n",
      "0.0 False {'ale.lives': 2}\n",
      "0.0 False {'ale.lives': 2}\n",
      "0.0 False {'ale.lives': 2}\n",
      "0.0 False {'ale.lives': 2}\n",
      "0.0 False {'ale.lives': 2}\n",
      "0.0 False {'ale.lives': 2}\n",
      "0.0 False {'ale.lives': 2}\n",
      "0.0 False {'ale.lives': 2}\n",
      "0.0 False {'ale.lives': 2}\n",
      "0.0 False {'ale.lives': 2}\n",
      "0.0 False {'ale.lives': 2}\n",
      "0.0 False {'ale.lives': 2}\n",
      "0.0 False {'ale.lives': 2}\n",
      "0.0 False {'ale.lives': 2}\n",
      "0.0 False {'ale.lives': 2}\n",
      "0.0 False {'ale.lives': 2}\n",
      "0.0 False {'ale.lives': 2}\n",
      "0.0 False {'ale.lives': 2}\n",
      "0.0 False {'ale.lives': 2}\n",
      "0.0 False {'ale.lives': 2}\n",
      "0.0 False {'ale.lives': 2}\n",
      "0.0 False {'ale.lives': 2}\n",
      "0.0 False {'ale.lives': 2}\n",
      "0.0 False {'ale.lives': 1}\n",
      "0.0 False {'ale.lives': 1}\n",
      "0.0 False {'ale.lives': 1}\n",
      "0.0 False {'ale.lives': 1}\n",
      "0.0 False {'ale.lives': 1}\n",
      "0.0 False {'ale.lives': 1}\n",
      "0.0 False {'ale.lives': 1}\n",
      "0.0 False {'ale.lives': 1}\n",
      "0.0 False {'ale.lives': 1}\n",
      "0.0 False {'ale.lives': 1}\n",
      "0.0 False {'ale.lives': 1}\n",
      "0.0 False {'ale.lives': 1}\n",
      "0.0 False {'ale.lives': 1}\n",
      "0.0 False {'ale.lives': 1}\n",
      "0.0 False {'ale.lives': 1}\n",
      "0.0 False {'ale.lives': 1}\n",
      "0.0 False {'ale.lives': 1}\n",
      "0.0 False {'ale.lives': 1}\n",
      "0.0 False {'ale.lives': 1}\n",
      "0.0 False {'ale.lives': 1}\n",
      "0.0 False {'ale.lives': 1}\n",
      "0.0 False {'ale.lives': 1}\n",
      "0.0 False {'ale.lives': 1}\n",
      "0.0 False {'ale.lives': 1}\n",
      "0.0 False {'ale.lives': 1}\n",
      "0.0 False {'ale.lives': 1}\n",
      "0.0 False {'ale.lives': 1}\n",
      "0.0 False {'ale.lives': 1}\n",
      "0.0 False {'ale.lives': 1}\n",
      "0.0 False {'ale.lives': 1}\n",
      "0.0 False {'ale.lives': 1}\n",
      "0.0 False {'ale.lives': 1}\n",
      "0.0 False {'ale.lives': 1}\n",
      "0.0 False {'ale.lives': 1}\n",
      "0.0 False {'ale.lives': 1}\n",
      "0.0 False {'ale.lives': 1}\n",
      "0.0 True {'ale.lives': 0}\n"
     ]
    }
   ],
   "source": [
    "for step in range(200):\n",
    "    env.render(\"human\")\n",
    "    random_action = env.action_space.sample()\n",
    "    observation, reward, done, info = env.step(random_action)\n",
    "    print(reward, done, info)\n",
    "    \n",
    "    if done:\n",
    "        break\n",
    "        \n",
    "    time.sleep(0.1)"
   ]
  },
  {
   "cell_type": "code",
   "execution_count": 23,
   "id": "03bdfd55",
   "metadata": {},
   "outputs": [],
   "source": [
    "env_name = \"MountainCar-v0\"\n",
    "env = gym.make(env_name)"
   ]
  },
  {
   "cell_type": "code",
   "execution_count": 24,
   "id": "f979b6ea",
   "metadata": {},
   "outputs": [
    {
     "data": {
      "text/plain": [
       "3"
      ]
     },
     "execution_count": 24,
     "metadata": {},
     "output_type": "execute_result"
    }
   ],
   "source": [
    "env.action_space.n"
   ]
  },
  {
   "cell_type": "code",
   "execution_count": 26,
   "id": "fab52160",
   "metadata": {},
   "outputs": [
    {
     "data": {
      "text/plain": [
       "[42]"
      ]
     },
     "execution_count": 26,
     "metadata": {},
     "output_type": "execute_result"
    }
   ],
   "source": [
    "env.seed(42)"
   ]
  },
  {
   "cell_type": "code",
   "execution_count": 29,
   "id": "263e1cab",
   "metadata": {
    "scrolled": true
   },
   "outputs": [
    {
     "name": "stdout",
     "output_type": "stream",
     "text": [
      "pos: -0.4156399815065593 vel: 0.00020585432119787103\n",
      "pos: -0.41522973665376545 vel: 0.00041024485279381423\n",
      "pos: -0.41461801753439687 vel: 0.0006117191193685585\n",
      "pos: -0.41380917036493764 vel: 0.0008088471694592184\n",
      "pos: -0.41280893778750816 vel: 0.0010002325774294929\n",
      "pos: -0.4116244146517117 vel: 0.001184523135796485\n",
      "pos: -0.41026399351249393 vel: 0.0013604211392177564\n",
      "pos: -0.40873730034725647 vel: 0.0015266931652374565\n",
      "pos: -0.4070551210853514 vel: 0.0016821792619050374\n",
      "pos: -0.4052293196267774 vel: 0.0018258014585740496\n",
      "pos: -0.4032727481031763 vel: 0.0019565715236010608\n",
      "pos: -0.40119915020187463 vel: 0.002073597901301683\n",
      "pos: -0.3990230584315312 vel: 0.002176091770343441\n",
      "pos: -0.39675968625485875 vel: 0.002263372176672435\n",
      "pos: -0.39442481604892515 vel: 0.0023348702059335803\n",
      "pos: -0.39203468387597945 vel: 0.0023901321729457234\n",
      "pos: -0.38960586205710734 vel: 0.0024288218188721297\n",
      "pos: -0.3871551405371304 vel: 0.0024507215199769147\n",
      "pos: -0.3846994080121917 vel: 0.0024557325249387005\n",
      "pos: -0.382255533761946 vel: 0.002443874250245702\n"
     ]
    }
   ],
   "source": [
    "observation = env.reset()\n",
    "for step in range(20):\n",
    "    # 0 <-, 1 stays put, 2 ->\n",
    "    env.render(mode=\"human\")\n",
    "    action = 2\n",
    "    observation, reward, done, info = env.step(action)\n",
    "    print(\"pos:\", observation[0], \"vel:\", observation[1])\n",
    "    time.sleep(0.5)\n",
    "env.close()"
   ]
  },
  {
   "cell_type": "code",
   "execution_count": 30,
   "id": "90220c13",
   "metadata": {},
   "outputs": [],
   "source": [
    "def simple_agent(observation):\n",
    "    pos, vel = observation\n",
    "    \n",
    "    # when to go right\n",
    "    if -0.1 < pos < 0.4:\n",
    "        action = 2\n",
    "    # when to go left\n",
    "    elif vel < 0 and pos < -0.2:\n",
    "        action = 0\n",
    "    # when to not do anything\n",
    "    else:\n",
    "        action = 1\n",
    "        \n",
    "    return action"
   ]
  },
  {
   "cell_type": "code",
   "execution_count": 31,
   "id": "7feee2ea",
   "metadata": {},
   "outputs": [],
   "source": [
    "observation = env.reset()\n",
    "for step in range(600):\n",
    "    # 0 <-, 1 stays put, 2 ->\n",
    "    env.render(mode=\"human\")\n",
    "    action = simple_agent(observation)\n",
    "    \n",
    "    observation, reward, done, info = env.step(action)\n",
    "    \n",
    "    time.sleep(0.1)\n",
    "env.close()"
   ]
  },
  {
   "cell_type": "code",
   "execution_count": null,
   "id": "a0edf987",
   "metadata": {},
   "outputs": [],
   "source": []
  }
 ],
 "metadata": {
  "kernelspec": {
   "display_name": "Python 3",
   "language": "python",
   "name": "python3"
  },
  "language_info": {
   "codemirror_mode": {
    "name": "ipython",
    "version": 3
   },
   "file_extension": ".py",
   "mimetype": "text/x-python",
   "name": "python",
   "nbconvert_exporter": "python",
   "pygments_lexer": "ipython3",
   "version": "3.6.15"
  }
 },
 "nbformat": 4,
 "nbformat_minor": 5
}
