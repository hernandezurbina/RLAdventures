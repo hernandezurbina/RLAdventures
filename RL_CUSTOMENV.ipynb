{
 "cells": [
  {
   "cell_type": "code",
   "execution_count": 1,
   "id": "5db2b321",
   "metadata": {},
   "outputs": [
    {
     "name": "stdout",
     "output_type": "stream",
     "text": [
      "pygame 2.0.1 (SDL 2.0.14, Python 3.6.15)\n",
      "Hello from the pygame community. https://www.pygame.org/contribute.html\n"
     ]
    }
   ],
   "source": [
    "import pygame"
   ]
  },
  {
   "cell_type": "code",
   "execution_count": 2,
   "id": "7a6c2e17",
   "metadata": {},
   "outputs": [],
   "source": [
    "import sys\n",
    "import time\n",
    "import random"
   ]
  },
  {
   "cell_type": "code",
   "execution_count": 3,
   "id": "f6701cef",
   "metadata": {},
   "outputs": [],
   "source": [
    "from pygame.surfarray import array3d"
   ]
  },
  {
   "cell_type": "code",
   "execution_count": 4,
   "id": "90edcd38",
   "metadata": {},
   "outputs": [],
   "source": [
    "BLACK = pygame.Color(0, 0, 0)\n",
    "WHITE = pygame.Color(255, 255, 255)\n",
    "RED = pygame.Color(255, 0, 0)\n",
    "GREEN = pygame.Color(0, 255, 0)"
   ]
  },
  {
   "cell_type": "code",
   "execution_count": 9,
   "id": "d489c269",
   "metadata": {},
   "outputs": [],
   "source": [
    "class SnakeEnv():\n",
    "    \n",
    "    def __init__(self, frame_size_x, frame_size_y):\n",
    "        self.frame_size_x = frame_size_x\n",
    "        self.frame_size_y = frame_size_y\n",
    "        self.game_window = pygame.display.set_mode((frame_size_x, frame_size_y))\n",
    "        \n",
    "        self.reset()\n",
    "        \n",
    "    def reset(self):\n",
    "        self.game_window.fill(BLACK)\n",
    "        self.snake_pos = [100, 50]\n",
    "        self.snake_body = [[100, 50], [90, 50], [80, 50]]\n",
    "        self.food_pos = self.spawn_food()\n",
    "        self.food_spawn = True\n",
    "        \n",
    "        self.direction = \"RIGHT\"\n",
    "        self.action = self.direction\n",
    "        \n",
    "        self.score = 0\n",
    "        self.steps = 0\n",
    "        print(\"GAME RESET\")\n",
    "    \n",
    "    def change_direction(self, action, direction):\n",
    "        if action == \"UP\" and direction != \"DOWN\":\n",
    "            direction = \"UP\"\n",
    "        if action == \"DOWN\" and direction != \"UP\":\n",
    "            direction = \"DOWN\"\n",
    "        if action == \"RIGHT\" and direction != \"LEFT\":\n",
    "            direction = \"RIGHT\"\n",
    "        if action == \"LEFT\" and direction != \"RIGHT\":\n",
    "            direction = \"LEFT\"\n",
    "            \n",
    "        return direction\n",
    "\n",
    "    def move(self, direction, snake_pos):\n",
    "        if direction == \"UP\":\n",
    "            snake_pos[1] -= 10\n",
    "        if direction == \"DOWN\":\n",
    "            snake_pos[1] += 10\n",
    "        if direction == \"LEFT\":\n",
    "            snake_pos[0] -= 10\n",
    "        if direction == \"RIGHT\":\n",
    "            snake_pos[0] += 10\n",
    "        return snake_pos\n",
    "        \n",
    "    def spawn_food(self):\n",
    "        return [random.randrange(1, (self.frame_size_x//10))*10, random.randrange(1, (self.frame_size_x//10))*10]\n",
    "    \n",
    "    def eat(self):\n",
    "        return self.snake_pos[0] == self.food_pos[0] and self.snake_pos[1] == self.food_pos[1]\n",
    "    \n",
    "    def human_step(self, event):\n",
    "        action = None\n",
    "        \n",
    "        if event.type == pygame.QUIT:\n",
    "            pygame.quit()\n",
    "            sys.exit()\n",
    "        elif event.type == pygame.KEYDOWN:\n",
    "            if event.key == pygame.K_UP:\n",
    "                action = \"UP\"\n",
    "            if event.key == pygame.K_DOWN:\n",
    "                action = \"DOWN\"\n",
    "            if event.key == pygame.K_LEFT:\n",
    "                action = \"LEFT\"\n",
    "            if event.key == pygame.K_RIGHT:\n",
    "                action = \"RIGHT\"\n",
    "            if event.key == pygame.K_ESCAPE:\n",
    "                pygame.event.post(pygame.event.Event(pygame.QUIT))\n",
    "        \n",
    "        return action\n",
    "    \n",
    "    def display_score(self, color, font, size):\n",
    "        score_font = pygame.font.SysFont(font, size)\n",
    "        score_surface = score_font.render(\"Score: \" + str(self.score), True, color)\n",
    "        score_rect = score_surface.get_rect()\n",
    "        score_rect.midtop = (self.frame_size_x/10, 15)\n",
    "        self.game_window.blit(score_surface, score_rect)\n",
    "        \n",
    "    def game_over(self):\n",
    "        # touch box\n",
    "        if self.snake_pos[0] < 0 or self.snake_pos[0] > self.frame_size_x-10:\n",
    "            self.end_game()\n",
    "        if self.snake_pos[1] < 0 or self.snake_pos[1] > self.frame_size_y-10:\n",
    "            self.end_game()\n",
    "            \n",
    "        # touch own body\n",
    "        for block in self.snake_body[1:]:\n",
    "            if self.snake_pos[0] == block[0] and self.snake_pos[1] == block[1]:\n",
    "                self.end_game()\n",
    "            \n",
    "    def end_game(self):\n",
    "        message = pygame.font.SysFont(\"arial\", 45)\n",
    "        message_surface = message.render(\"GAME HAS ENDED\", True, RED)\n",
    "        message_rect = message_surface.get_rect()\n",
    "        message_rect.midtop = (self.frame_size_x/2, self.frame_size_y/4)\n",
    "        \n",
    "        self.game_window.fill(BLACK)\n",
    "        self.game_window.blit(message_surface, message_rect)\n",
    "        self.display_score(RED, \"times\", 20)\n",
    "        pygame.display.flip()\n",
    "        time.sleep(3)\n",
    "        pygame.quit()\n",
    "        sys.exit()"
   ]
  },
  {
   "cell_type": "code",
   "execution_count": 10,
   "id": "c7cd424e",
   "metadata": {},
   "outputs": [
    {
     "name": "stdout",
     "output_type": "stream",
     "text": [
      "GAME RESET\n"
     ]
    },
    {
     "ename": "SystemExit",
     "evalue": "",
     "output_type": "error",
     "traceback": [
      "An exception has occurred, use %tb to see the full traceback.\n",
      "\u001b[1;31mSystemExit\u001b[0m\n"
     ]
    },
    {
     "name": "stderr",
     "output_type": "stream",
     "text": [
      "C:\\Users\\VictorHernandez-Urbi\\anaconda3\\envs\\env\\lib\\site-packages\\IPython\\core\\interactiveshell.py:3351: UserWarning: To exit: use 'exit', 'quit', or Ctrl-D.\n",
      "  warn(\"To exit: use 'exit', 'quit', or Ctrl-D.\", stacklevel=1)\n"
     ]
    }
   ],
   "source": [
    "snake_env = SnakeEnv(600, 600)\n",
    "difficulty = 10\n",
    "fps_controller = pygame.time.Clock()\n",
    "check_errors = pygame.init()\n",
    "pygame.display.set_caption(\"Snake Game\")\n",
    "\n",
    "# GAME LOOP\n",
    "while True:\n",
    "    # human input\n",
    "    for event in pygame.event.get():\n",
    "        snake_env.action = snake_env.human_step(event)\n",
    "        \n",
    "    # check direction\n",
    "    snake_env.direction = snake_env.change_direction(snake_env.action, snake_env.direction)\n",
    "    snake_env.snake_pos = snake_env.move(snake_env.direction, snake_env.snake_pos)\n",
    "    \n",
    "    # check if we ate food\n",
    "    snake_env.snake_body.insert(0, list(snake_env.snake_pos))\n",
    "    if snake_env.eat():\n",
    "        snake_env.score += 1\n",
    "        snake_env.food_spawn = False\n",
    "    else:\n",
    "        snake_env.snake_body.pop()\n",
    "    \n",
    "    # check if we spawn new food\n",
    "    if not snake_env.food_spawn:\n",
    "        snake_env.food_pos = snake_env.spawn_food()\n",
    "    snake_env.food_spawn = True\n",
    "    \n",
    "    # drawing the snake\n",
    "    snake_env.game_window.fill(BLACK)\n",
    "    for pos in snake_env.snake_body:\n",
    "        pygame.draw.rect(snake_env.game_window, GREEN, pygame.Rect(pos[0], pos[1], 10, 10))\n",
    "    \n",
    "    # drawing the food\n",
    "    pygame.draw.rect(snake_env.game_window, WHITE, pygame.Rect(snake_env.food_pos[0], snake_env.food_pos[1], 10, 10))\n",
    "    \n",
    "    # check if end game\n",
    "    snake_env.game_over()\n",
    "    \n",
    "    # refresh game screen\n",
    "    snake_env.display_score(WHITE, \"consolas\", 20)\n",
    "    pygame.display.update()\n",
    "    fps_controller.tick(difficulty)\n",
    "    img = array3d(snake_env.game_window)"
   ]
  },
  {
   "cell_type": "code",
   "execution_count": null,
   "id": "4c2a2e0b",
   "metadata": {},
   "outputs": [],
   "source": []
  }
 ],
 "metadata": {
  "kernelspec": {
   "display_name": "Python 3",
   "language": "python",
   "name": "python3"
  },
  "language_info": {
   "codemirror_mode": {
    "name": "ipython",
    "version": 3
   },
   "file_extension": ".py",
   "mimetype": "text/x-python",
   "name": "python",
   "nbconvert_exporter": "python",
   "pygments_lexer": "ipython3",
   "version": "3.6.15"
  }
 },
 "nbformat": 4,
 "nbformat_minor": 5
}
