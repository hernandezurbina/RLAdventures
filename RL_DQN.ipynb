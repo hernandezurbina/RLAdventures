{
 "cells": [
  {
   "cell_type": "code",
   "execution_count": 1,
   "id": "76bedc11",
   "metadata": {},
   "outputs": [],
   "source": [
    "import numpy as np\n",
    "import random\n",
    "from collections import deque\n",
    "import gym"
   ]
  },
  {
   "cell_type": "code",
   "execution_count": 2,
   "id": "ce100e49",
   "metadata": {},
   "outputs": [],
   "source": [
    "from tensorflow.keras.models import Sequential, clone_model\n",
    "from tensorflow.keras.layers import Dense, Activation\n",
    "from tensorflow.keras.optimizers import Adam"
   ]
  },
  {
   "cell_type": "code",
   "execution_count": 3,
   "id": "713349e1",
   "metadata": {},
   "outputs": [],
   "source": [
    "env_name = \"CartPole-v1\"\n",
    "env = gym.make(env_name)"
   ]
  },
  {
   "cell_type": "code",
   "execution_count": 4,
   "id": "99ecd668",
   "metadata": {},
   "outputs": [
    {
     "name": "stderr",
     "output_type": "stream",
     "text": [
      "C:\\Users\\VictorHernandez-Urbi\\anaconda3\\envs\\env\\lib\\site-packages\\gym\\logger.py:34: UserWarning: \u001b[33mWARN: You are calling 'step()' even though this environment has already returned done = True. You should always call 'reset()' once you receive 'done = True' -- any further steps are undefined behavior.\u001b[0m\n",
      "  warnings.warn(colorize(\"%s: %s\" % (\"WARN\", msg % args), \"yellow\"))\n"
     ]
    }
   ],
   "source": [
    "env.reset()\n",
    "\n",
    "for step in range(1000):\n",
    "    env.render(mode=\"human\")\n",
    "    random_action = env.action_space.sample()\n",
    "    env.step(random_action)\n",
    "\n",
    "env.close()"
   ]
  },
  {
   "cell_type": "code",
   "execution_count": 5,
   "id": "076bc1b2",
   "metadata": {},
   "outputs": [],
   "source": [
    "num_observations = env.observation_space.shape[0]"
   ]
  },
  {
   "cell_type": "code",
   "execution_count": 6,
   "id": "f720a8b4",
   "metadata": {},
   "outputs": [],
   "source": [
    "num_actions = env.action_space.n"
   ]
  },
  {
   "cell_type": "code",
   "execution_count": 9,
   "id": "d0f58712",
   "metadata": {},
   "outputs": [],
   "source": [
    "model = Sequential()\n",
    "model.add(Dense(16, input_shape=(1, num_observations)))\n",
    "model.add(Activation('relu'))\n",
    "model.add(Dense(32))\n",
    "model.add(Activation('relu'))\n",
    "model.add(Dense(num_actions))\n",
    "model.add(Activation('linear'))"
   ]
  },
  {
   "cell_type": "code",
   "execution_count": 10,
   "id": "c64e6239",
   "metadata": {},
   "outputs": [
    {
     "name": "stdout",
     "output_type": "stream",
     "text": [
      "Model: \"sequential\"\n",
      "_________________________________________________________________\n",
      "Layer (type)                 Output Shape              Param #   \n",
      "=================================================================\n",
      "dense (Dense)                (None, 1, 16)             80        \n",
      "_________________________________________________________________\n",
      "activation (Activation)      (None, 1, 16)             0         \n",
      "_________________________________________________________________\n",
      "dense_1 (Dense)              (None, 1, 32)             544       \n",
      "_________________________________________________________________\n",
      "activation_1 (Activation)    (None, 1, 32)             0         \n",
      "_________________________________________________________________\n",
      "dense_2 (Dense)              (None, 1, 2)              66        \n",
      "_________________________________________________________________\n",
      "activation_2 (Activation)    (None, 1, 2)              0         \n",
      "=================================================================\n",
      "Total params: 690\n",
      "Trainable params: 690\n",
      "Non-trainable params: 0\n",
      "_________________________________________________________________\n"
     ]
    }
   ],
   "source": [
    "model.summary()"
   ]
  },
  {
   "cell_type": "code",
   "execution_count": 11,
   "id": "0df03f2b",
   "metadata": {},
   "outputs": [],
   "source": [
    "target_model = clone_model(model)"
   ]
  },
  {
   "cell_type": "code",
   "execution_count": 26,
   "id": "9b38e902",
   "metadata": {},
   "outputs": [],
   "source": [
    "EPOCHS = 1000\n",
    "epsilon = 1.0\n",
    "EPSILON_REDUCE = 0.995\n",
    "BATCH_SIZE = 32\n",
    "LEARNING_RATE = 0.001\n",
    "GAMMA = 0.95"
   ]
  },
  {
   "cell_type": "code",
   "execution_count": 13,
   "id": "90ba2637",
   "metadata": {},
   "outputs": [],
   "source": [
    "def epsilon_greedy_action_selection(model, epsilon, observation):\n",
    "    if np.random.random() > epsilon:\n",
    "        prediction = model.predict(observation)\n",
    "        action = np.argmax(prediction)\n",
    "    else:\n",
    "        action = np.random.randint(0, env.action_space.n)\n",
    "    \n",
    "    return action"
   ]
  },
  {
   "cell_type": "code",
   "execution_count": 15,
   "id": "bfa50e05",
   "metadata": {},
   "outputs": [],
   "source": [
    "replay_buffer = deque(maxlen=20000)\n",
    "update_target_model = 10"
   ]
  },
  {
   "cell_type": "code",
   "execution_count": 16,
   "id": "337c9b66",
   "metadata": {},
   "outputs": [],
   "source": [
    "test_tuple = [(1, 2, 3), (4, 5, 6), (7, 8, 9)]"
   ]
  },
  {
   "cell_type": "code",
   "execution_count": 17,
   "id": "10811250",
   "metadata": {},
   "outputs": [],
   "source": [
    "zipped_list = list(zip(*test_tuple))"
   ]
  },
  {
   "cell_type": "code",
   "execution_count": 18,
   "id": "60652774",
   "metadata": {},
   "outputs": [],
   "source": [
    "a, b, c = zipped_list"
   ]
  },
  {
   "cell_type": "code",
   "execution_count": 19,
   "id": "31e637f3",
   "metadata": {},
   "outputs": [
    {
     "data": {
      "text/plain": [
       "(1, 4, 7)"
      ]
     },
     "execution_count": 19,
     "metadata": {},
     "output_type": "execute_result"
    }
   ],
   "source": [
    "a"
   ]
  },
  {
   "cell_type": "code",
   "execution_count": 20,
   "id": "cca454ca",
   "metadata": {},
   "outputs": [
    {
     "data": {
      "text/plain": [
       "(2, 5, 8)"
      ]
     },
     "execution_count": 20,
     "metadata": {},
     "output_type": "execute_result"
    }
   ],
   "source": [
    "b"
   ]
  },
  {
   "cell_type": "code",
   "execution_count": 21,
   "id": "2ab5b113",
   "metadata": {},
   "outputs": [
    {
     "data": {
      "text/plain": [
       "(3, 6, 9)"
      ]
     },
     "execution_count": 21,
     "metadata": {},
     "output_type": "execute_result"
    }
   ],
   "source": [
    "c"
   ]
  },
  {
   "cell_type": "code",
   "execution_count": 31,
   "id": "bf1789cd",
   "metadata": {},
   "outputs": [],
   "source": [
    "def replay(replay_buffer, batch_size, model, target_model):\n",
    "    if len(replay_buffer) < batch_size:\n",
    "        return\n",
    "    samples = random.sample(replay_buffer, batch_size)\n",
    "    target_batch = []\n",
    "    \n",
    "    zipped_samples = list(zip(*samples))\n",
    "    \n",
    "    states, actions, rewards, new_states, dones = zipped_samples\n",
    "    \n",
    "    targets = target_model.predict(np.array(states))\n",
    "    q_values = model.predict(np.array(new_states))\n",
    "    \n",
    "    for i in range(batch_size):\n",
    "        q_value = max(q_values[i][0])\n",
    "        target = targets[i].copy()\n",
    "        \n",
    "        if dones[i]:\n",
    "            target[0][actions[i]] = rewards[i]\n",
    "        else:\n",
    "            target[0][actions[i]] = rewards[i] + q_value * GAMMA\n",
    "        \n",
    "        target_batch.append(target)\n",
    "        \n",
    "    model.fit(np.array(states), np.array(target_batch), epochs=1, verbose=0)\n",
    "    "
   ]
  },
  {
   "cell_type": "code",
   "execution_count": 32,
   "id": "15b24fdf",
   "metadata": {},
   "outputs": [],
   "source": [
    "def update_model_handler(epoch, update_target_model, model, target_model):\n",
    "    if epoch > 0 and (epoch % update_target_model == 0):\n",
    "        target_model.set_weights(model.get_weights()) "
   ]
  },
  {
   "cell_type": "code",
   "execution_count": 33,
   "id": "eb2014d2",
   "metadata": {},
   "outputs": [],
   "source": [
    "model.compile(loss=\"mse\", optimizer=(Adam(learning_rate=LEARNING_RATE)))"
   ]
  },
  {
   "cell_type": "code",
   "execution_count": 34,
   "id": "85eb236a",
   "metadata": {},
   "outputs": [
    {
     "name": "stdout",
     "output_type": "stream",
     "text": [
      "0:  POINTS: 27 eps: 0.990025 BSF: 27\n",
      "WARNING:tensorflow:Model was constructed with shape (None, 1, 4) for input KerasTensor(type_spec=TensorSpec(shape=(None, 1, 4), dtype=tf.float32, name='dense_input'), name='dense_input', description=\"created by layer 'dense_input'\"), but it was called on an input with incompatible shape (None, 4).\n",
      "25:  POINTS: 23 eps: 0.8734200960253871 BSF: 51\n",
      "50:  POINTS: 23 eps: 0.7705488893118823 BSF: 102\n",
      "75:  POINTS: 32 eps: 0.6797938283326578 BSF: 102\n",
      "100:  POINTS: 86 eps: 0.5997278763867329 BSF: 150\n",
      "125:  POINTS: 78 eps: 0.5290920728090721 BSF: 150\n",
      "150:  POINTS: 161 eps: 0.46677573701590436 BSF: 166\n",
      "175:  POINTS: 133 eps: 0.4117990041127769 BSF: 167\n",
      "200:  POINTS: 32 eps: 0.3632974174544486 BSF: 209\n",
      "225:  POINTS: 140 eps: 0.32050833588933575 BSF: 209\n",
      "250:  POINTS: 154 eps: 0.2827589419554058 BSF: 209\n",
      "275:  POINTS: 139 eps: 0.2494556624678441 BSF: 209\n",
      "300:  POINTS: 154 eps: 0.22007483514733558 BSF: 209\n",
      "325:  POINTS: 152 eps: 0.19415447453059972 BSF: 209\n",
      "350:  POINTS: 134 eps: 0.1712870076899825 BSF: 209\n",
      "375:  POINTS: 133 eps: 0.15111286553822956 BSF: 209\n",
      "400:  POINTS: 128 eps: 0.13331482894782642 BSF: 209\n",
      "425:  POINTS: 148 eps: 0.1176130407830293 BSF: 209\n",
      "450:  POINTS: 158 eps: 0.10376060541355137 BSF: 209\n",
      "475:  POINTS: 150 eps: 0.09153970651645797 BSF: 209\n",
      "500:  POINTS: 162 eps: 0.08075818212241151 BSF: 209\n",
      "525:  POINTS: 154 eps: 0.0712465030521374 BSF: 209\n",
      "550:  POINTS: 141 eps: 0.06285510723190912 BSF: 209\n",
      "575:  POINTS: 158 eps: 0.0554520479727078 BSF: 209\n",
      "600:  POINTS: 154 eps: 0.04892091923449087 BSF: 209\n",
      "625:  POINTS: 147 eps: 0.043159025252331236 BSF: 209\n",
      "650:  POINTS: 153 eps: 0.038075765743545126 BSF: 209\n",
      "675:  POINTS: 173 eps: 0.03359121130473201 BSF: 209\n",
      "700:  POINTS: 170 eps: 0.029634846598205186 BSF: 209\n",
      "725:  POINTS: 148 eps: 0.026144461565619025 BSF: 209\n",
      "750:  POINTS: 162 eps: 0.023065173234186005 BSF: 209\n",
      "775:  POINTS: 161 eps: 0.020348562734319765 BSF: 209\n",
      "800:  POINTS: 157 eps: 0.017951913959130504 BSF: 209\n",
      "825:  POINTS: 181 eps: 0.01583754189442009 BSF: 209\n",
      "850:  POINTS: 195 eps: 0.013972200057807112 BSF: 217\n",
      "875:  POINTS: 160 eps: 0.012326557729527843 BSF: 217\n",
      "900:  POINTS: 174 eps: 0.010874738754866477 BSF: 217\n",
      "925:  POINTS: 169 eps: 0.009593914666323049 BSF: 217\n",
      "950:  POINTS: 168 eps: 0.008463945727753589 BSF: 217\n",
      "975:  POINTS: 183 eps: 0.0074670642562442375 BSF: 217\n"
     ]
    }
   ],
   "source": [
    "best_so_far = 0\n",
    "\n",
    "for epoch in range(EPOCHS):\n",
    "    observation = env.reset()\n",
    "    \n",
    "    observation = observation.reshape([1, 4])\n",
    "    done = False\n",
    "    points = 0\n",
    "    \n",
    "    while not done:\n",
    "        action = epsilon_greedy_action_selection(model, epsilon, observation)\n",
    "        next_observation, reward, done, info = env.step(action)\n",
    "        next_observation = next_observation.reshape([1, 4])\n",
    "        replay_buffer.append((observation, action, reward, next_observation, done))\n",
    "        observation = next_observation\n",
    "        points += 1\n",
    "        replay(replay_buffer, BATCH_SIZE, model, target_model)\n",
    "    \n",
    "    epsilon *= EPSILON_REDUCE\n",
    "    \n",
    "    update_model_handler(epoch, update_target_model, model, target_model)\n",
    "    \n",
    "    if points > best_so_far:\n",
    "        best_so_far = points\n",
    "    if epoch % 25 == 0:\n",
    "        print(f\"{epoch}:  POINTS: {points} eps: {epsilon} BSF: {best_so_far}\")"
   ]
  },
  {
   "cell_type": "code",
   "execution_count": 37,
   "id": "c016c0da",
   "metadata": {},
   "outputs": [],
   "source": [
    "observation = env.reset()\n",
    "\n",
    "for step in range(500):\n",
    "    env.render()\n",
    "    action = np.argmax(model.predict(observation.reshape([1, 4])))\n",
    "    observation, reward, done, info = env.step(action)\n",
    "    if done:\n",
    "        break\n",
    "env.close()"
   ]
  },
  {
   "cell_type": "code",
   "execution_count": null,
   "id": "5758351d",
   "metadata": {},
   "outputs": [],
   "source": []
  }
 ],
 "metadata": {
  "kernelspec": {
   "display_name": "Python 3",
   "language": "python",
   "name": "python3"
  },
  "language_info": {
   "codemirror_mode": {
    "name": "ipython",
    "version": 3
   },
   "file_extension": ".py",
   "mimetype": "text/x-python",
   "name": "python",
   "nbconvert_exporter": "python",
   "pygments_lexer": "ipython3",
   "version": "3.6.15"
  }
 },
 "nbformat": 4,
 "nbformat_minor": 5
}
